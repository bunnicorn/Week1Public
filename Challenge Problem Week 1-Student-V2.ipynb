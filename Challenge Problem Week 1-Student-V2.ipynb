{
 "cells": [
  {
   "cell_type": "markdown",
   "metadata": {},
   "source": [
    "# Challenge Problem Week 1"
   ]
  },
  {
   "cell_type": "markdown",
   "metadata": {},
   "source": [
    "Hepatitis B (HEP B) is a liver infection caused by the hepatitis B virus (HBV). The infection causes inflammation of the liver and if not properly treated, the virus can lead to liver disease such as cirrhosis or liver cancer. \n",
    "HEP B is the most primary causes of liver cancer, the one of the leading cause of cancer deaths in the world, therfore making it a major global health problem. HEP B is up to 100 times more infectious than the HIV/AIDS virus. Two billion people (1 in 3) have been infected and more than 292 million people are living with a chronic hepatitis B infection. Although HEP B is treatable and preventable about 884,000 people die each year.\n",
    "\n",
    "The virus is transmitted through the blood and infected bodily fluids. It can be passed to others through direct contact with blood, unprotected sex, use of illegal drugs, unsterilized or contaminated needles, and from an infected woman to her newborn during pregnancy or childbirth. Most people do not show symptoms and the only way to know you are infected is by getting tested.\n",
    "\n",
    "![hepb](https://images.onhealth.com/images/slideshow/hepatitis-s1-liver-hepatitis-virus.jpg)\n",
    "\n",
    "**Goal**: Use the NHANES data set to predict whether a patient has HEP B or not. We want to determine which attributes are the most meaningful to the predictive models. We want to create a balanced model that can predict with a high sensitivity and high specificity while using the **least amount of features**. Essentially is there a way to identify the population of those infected without testing them? \n",
    "\n",
    "Source: https://www.hepb.org/what-is-hepatitis-b/what-is-hepb/ "
   ]
  },
  {
   "cell_type": "markdown",
   "metadata": {},
   "source": [
    "# National Health and Nutrition Examination Survey NHANES \n",
    "To investigate our research problem we will be using the NHANES database. NHANES is a program of studies designed to assess the health and nutritional status of adults and children in the United States. The survey is unique in that it combines interviews and physical examinations. The survey examines a nationally representative sample of about 5,000 persons each year. These persons are located in counties across the country, 15 of which are visited each year. The NHANES interview includes demographic, socioeconomic, dietary, and health-related questions. The examination component consists of medical, dental, and physiological measurements, as well as laboratory tests administered by highly trained medical personnel.\n",
    "\n",
    "Source: Centers for Disease Control and Prevention (CDC). National Center for Health Statistics (NCHS). National Health and Nutrition Examination Survey Data. Hyattsville, MD: U.S. Department of Health and Human Services, Centers for Disease Control and Prevention, [2019][https://www.cdc.gov/nchs/nhanes/about_nhanes.htm#data]."
   ]
  },
  {
   "cell_type": "markdown",
   "metadata": {},
   "source": [
    "Below are some general steps to begin analyzing this problem. Apply the new material you learned in class and have fun! (:\n",
    "\n",
    "1. Import the data  \n",
    "2. Decide what variables are most relevant  \n",
    "3. Summary statistics of the data  \n",
    "4. Data Cleaning (Important!) Note this may a tedious process  \n",
    "a. Missing data  \n",
    "b. Transform/Normalize data  \n",
    "4. Data Visualization  \n",
    "5. Data analysis  \n",
    "a. Create dummy variables  \n",
    "b. Create training and test sets  \n",
    "c. Statistical methodology  \n",
    "6. Scoring metrics  \n",
    "confusion matrix, roc curve  \n"
   ]
  },
  {
   "cell_type": "code",
   "execution_count": 2,
   "metadata": {},
   "outputs": [],
   "source": [
    "#import needed libraries\n",
    "import pandas as pd\n",
    "import numpy as np\n",
    "import matplotlib as plt\n",
    "import math\n",
    "import seaborn as sns\n"
   ]
  },
  {
   "cell_type": "markdown",
   "metadata": {},
   "source": [
    "## Import data\n",
    "Read in the data set and look at the first ten lines"
   ]
  },
  {
   "cell_type": "code",
   "execution_count": 3,
   "metadata": {},
   "outputs": [
    {
     "name": "stderr",
     "output_type": "stream",
     "text": [
      "/Users/Elaine/anaconda3/lib/python3.7/site-packages/IPython/core/interactiveshell.py:3020: DtypeWarning: Columns (411,412,414,1973,1974,1975,1976,2595,2597,2599,2601,2603,2605,2607,2609,2611,2613,2615,2617,2619,2621,2623,2625,2627,2629,2631,2633,2635,2637,2639,2641,2643,2645,2647,2649,3143,3194,3331,3332,3345,3346,3349,3350,3351,3352,3353,3526,3545,3863,3865,3867,3869,3871,3873,3875,3877,3879,3881,3883,3885,3887,3889,3891,3893,3895,3897,3899,3901,3903,3905,3907,3909,3911,3913,3915,3917,4161,5018,5047,5077,5081,5423,6581,6582,6584,6598,6599,6601,6855,6857,8094,8572,8573) have mixed types. Specify dtype option on import or set low_memory=False.\n",
      "  interactivity=interactivity, compiler=compiler, result=result)\n"
     ]
    }
   ],
   "source": [
    "#import data\n",
    "\n",
    "# Write your code here\n",
    "dataset = pd.read_csv(\"NHANES_comp.csv\")"
   ]
  },
  {
   "cell_type": "code",
   "execution_count": 12,
   "metadata": {},
   "outputs": [],
   "source": [
    "#dropping unnecessary variables (don't worry about this)\n",
    "dataset = dataset[dataset.columns.drop(list(dataset.filter(regex='WT')))]\n",
    "dataset = dataset[dataset.columns.drop(list(dataset.filter(regex='SDM')))]"
   ]
  },
  {
   "cell_type": "markdown",
   "metadata": {},
   "source": [
    "Awesome, looks like the data loaded in properly. Let's continue by looking at variables that may be predictive of hepatitis B. For beginners, I would suggest conducting a literature review on previous research of hepatitis B."
   ]
  },
  {
   "cell_type": "markdown",
   "metadata": {},
   "source": [
    "## Select Features of Interest\n",
    "Once you have selected some variables in the NHANES data set only looking at what you are interested in. It is in your best interest to rename the variables."
   ]
  },
  {
   "cell_type": "code",
   "execution_count": 107,
   "metadata": {},
   "outputs": [],
   "source": [
    "# Write your code here\n",
    "\n",
    "# create a subset of the data you want to analyze\n",
    "\n",
    "df = dataset[['LBXHBC', 'RIDRETH1', 'DUQ370', 'RIDAGEYR']]\n",
    "df = df.rename(index = str, columns = {'LBXHBC':'Hep B', 'RIDRETH1': 'Ethn', 'DUQ370':'Needle', 'RIDAGEYR': 'Age'})\n",
    "\n",
    "# rename the variables"
   ]
  },
  {
   "cell_type": "markdown",
   "metadata": {},
   "source": [
    "Remember the goal is to create a balanced model that can predict with a high sensitivity and high specificity while using the **least amount of features**. Next, we will look at some summary statistics of the variables you chose."
   ]
  },
  {
   "cell_type": "markdown",
   "metadata": {},
   "source": [
    "## View summary statistics\n",
    "Some useful functions in pandas are describe() and info()"
   ]
  },
  {
   "cell_type": "code",
   "execution_count": 102,
   "metadata": {},
   "outputs": [
    {
     "data": {
      "text/html": [
       "<div>\n",
       "<style scoped>\n",
       "    .dataframe tbody tr th:only-of-type {\n",
       "        vertical-align: middle;\n",
       "    }\n",
       "\n",
       "    .dataframe tbody tr th {\n",
       "        vertical-align: top;\n",
       "    }\n",
       "\n",
       "    .dataframe thead th {\n",
       "        text-align: right;\n",
       "    }\n",
       "</style>\n",
       "<table border=\"1\" class=\"dataframe\">\n",
       "  <thead>\n",
       "    <tr style=\"text-align: right;\">\n",
       "      <th></th>\n",
       "      <th>Hep B</th>\n",
       "      <th>Ethn</th>\n",
       "      <th>Needle</th>\n",
       "      <th>Age</th>\n",
       "    </tr>\n",
       "  </thead>\n",
       "  <tbody>\n",
       "    <tr>\n",
       "      <th>0</th>\n",
       "      <td>2.0</td>\n",
       "      <td>5</td>\n",
       "      <td>2.0</td>\n",
       "      <td>62</td>\n",
       "    </tr>\n",
       "    <tr>\n",
       "      <th>1</th>\n",
       "      <td>2.0</td>\n",
       "      <td>5</td>\n",
       "      <td>NaN</td>\n",
       "      <td>6</td>\n",
       "    </tr>\n",
       "    <tr>\n",
       "      <th>2</th>\n",
       "      <td>2.0</td>\n",
       "      <td>3</td>\n",
       "      <td>NaN</td>\n",
       "      <td>71</td>\n",
       "    </tr>\n",
       "    <tr>\n",
       "      <th>3</th>\n",
       "      <td>NaN</td>\n",
       "      <td>3</td>\n",
       "      <td>NaN</td>\n",
       "      <td>1</td>\n",
       "    </tr>\n",
       "    <tr>\n",
       "      <th>4</th>\n",
       "      <td>2.0</td>\n",
       "      <td>1</td>\n",
       "      <td>2.0</td>\n",
       "      <td>52</td>\n",
       "    </tr>\n",
       "    <tr>\n",
       "      <th>5</th>\n",
       "      <td>NaN</td>\n",
       "      <td>1</td>\n",
       "      <td>NaN</td>\n",
       "      <td>6</td>\n",
       "    </tr>\n",
       "    <tr>\n",
       "      <th>6</th>\n",
       "      <td>NaN</td>\n",
       "      <td>4</td>\n",
       "      <td>2.0</td>\n",
       "      <td>21</td>\n",
       "    </tr>\n",
       "    <tr>\n",
       "      <th>7</th>\n",
       "      <td>2.0</td>\n",
       "      <td>1</td>\n",
       "      <td>2.0</td>\n",
       "      <td>64</td>\n",
       "    </tr>\n",
       "    <tr>\n",
       "      <th>8</th>\n",
       "      <td>2.0</td>\n",
       "      <td>4</td>\n",
       "      <td>2.0</td>\n",
       "      <td>66</td>\n",
       "    </tr>\n",
       "    <tr>\n",
       "      <th>9</th>\n",
       "      <td>NaN</td>\n",
       "      <td>3</td>\n",
       "      <td>NaN</td>\n",
       "      <td>0</td>\n",
       "    </tr>\n",
       "  </tbody>\n",
       "</table>\n",
       "</div>"
      ],
      "text/plain": [
       "   Hep B  Ethn  Needle  Age\n",
       "0    2.0     5     2.0   62\n",
       "1    2.0     5     NaN    6\n",
       "2    2.0     3     NaN   71\n",
       "3    NaN     3     NaN    1\n",
       "4    2.0     1     2.0   52\n",
       "5    NaN     1     NaN    6\n",
       "6    NaN     4     2.0   21\n",
       "7    2.0     1     2.0   64\n",
       "8    2.0     4     2.0   66\n",
       "9    NaN     3     NaN    0"
      ]
     },
     "execution_count": 102,
     "metadata": {},
     "output_type": "execute_result"
    }
   ],
   "source": [
    "# Write your code here\n",
    "df.head(10)"
   ]
  },
  {
   "cell_type": "markdown",
   "metadata": {},
   "source": [
    "Note the data types are float64, int64 or objects--if there are columns that are obviously numeric like Age but show as objects (or vice versa), we need to change."
   ]
  },
  {
   "cell_type": "markdown",
   "metadata": {},
   "source": [
    "## Data Cleaning\n",
    "\n",
    "Ensure that numeric and categorical variables are coded correctly (turn numeric from strings to numbers)."
   ]
  },
  {
   "cell_type": "code",
   "execution_count": 108,
   "metadata": {},
   "outputs": [
    {
     "name": "stdout",
     "output_type": "stream",
     "text": [
      "       Hep B  Ethn  Needle  Age\n",
      "0        2.0     5     2.0   62\n",
      "4        2.0     1     2.0   52\n",
      "7        2.0     1     2.0   64\n",
      "8        2.0     4     2.0   66\n",
      "10       2.0     2     2.0   30\n",
      "11       2.0     1     2.0   61\n",
      "12       1.0     5     2.0   27\n",
      "14       2.0     1     2.0   40\n",
      "15       2.0     4     2.0   66\n",
      "19       2.0     1     2.0   40\n",
      "20       2.0     3     2.0   61\n",
      "21       2.0     1     2.0   64\n",
      "23       2.0     4     2.0   68\n",
      "27       2.0     1     2.0   29\n",
      "29       2.0     3     2.0   63\n",
      "34       2.0     2     2.0   48\n",
      "35       2.0     3     2.0   33\n",
      "36       2.0     1     2.0   35\n",
      "43       2.0     3     2.0   50\n",
      "48       2.0     4     2.0   28\n",
      "50       2.0     4     1.0   51\n",
      "51       2.0     3     2.0   64\n",
      "52       2.0     3     2.0   44\n",
      "56       2.0     2     2.0   43\n",
      "61       2.0     3     2.0   44\n",
      "64       2.0     3     2.0   37\n",
      "66       2.0     3     2.0   43\n",
      "67       2.0     4     2.0   60\n",
      "70       2.0     1     2.0   40\n",
      "71       2.0     3     2.0   45\n",
      "...      ...   ...     ...  ...\n",
      "10071    2.0     1     2.0   20\n",
      "10074    2.0     4     2.0   29\n",
      "10079    2.0     4     2.0   49\n",
      "10081    2.0     1     2.0   27\n",
      "10083    2.0     4     2.0   56\n",
      "10085    2.0     4     2.0   68\n",
      "10089    2.0     2     2.0   55\n",
      "10094    2.0     3     2.0   56\n",
      "10095    2.0     3     2.0   63\n",
      "10101    2.0     1     2.0   51\n",
      "10104    2.0     5     2.0   23\n",
      "10105    2.0     3     2.0   34\n",
      "10108    2.0     3     2.0   63\n",
      "10109    2.0     3     2.0   57\n",
      "10112    2.0     4     2.0   48\n",
      "10114    2.0     2     2.0   32\n",
      "10115    2.0     3     2.0   52\n",
      "10117    2.0     3     2.0   62\n",
      "10118    2.0     3     2.0   64\n",
      "10119    2.0     2     2.0   32\n",
      "10121    2.0     1     2.0   52\n",
      "10129    2.0     3     2.0   53\n",
      "10133    2.0     1     2.0   33\n",
      "10136    2.0     3     2.0   55\n",
      "10139    1.0     3     1.0   57\n",
      "10141    2.0     3     2.0   60\n",
      "10143    2.0     3     2.0   48\n",
      "10144    2.0     1     2.0   61\n",
      "10145    2.0     3     2.0   50\n",
      "10147    1.0     4     2.0   60\n",
      "\n",
      "[3950 rows x 4 columns]\n"
     ]
    }
   ],
   "source": [
    "#drugs: 1 = yes\n",
    "\n",
    "df = df[np.isfinite(df['Hep B'])]\n",
    "df = df[np.isfinite(df['Ethn'])]\n",
    "df = df[df['Needle'] < 7]\n",
    "df = df[np.isfinite(df['Age'])]\n",
    "\n",
    "print(df)"
   ]
  },
  {
   "cell_type": "markdown",
   "metadata": {},
   "source": [
    "Notice the counts for the columns are different because of missing values therefore you will have to figure out how to remediate that issue..some suggestions are found in https://scikit-learn.org/stable/modules/impute.html#impute"
   ]
  },
  {
   "cell_type": "code",
   "execution_count": null,
   "metadata": {},
   "outputs": [],
   "source": [
    "# Write your code here\n",
    "\n",
    "# remove, impute, some remedial procedure for NAs \n"
   ]
  },
  {
   "cell_type": "markdown",
   "metadata": {},
   "source": [
    "Lastly, we will convert HEP B into indicator variables"
   ]
  },
  {
   "cell_type": "code",
   "execution_count": null,
   "metadata": {},
   "outputs": [],
   "source": [
    "# write your code here\n"
   ]
  },
  {
   "cell_type": "markdown",
   "metadata": {},
   "source": [
    "## Data Analysis and Visualization\n",
    "\n",
    "Take a look at your data. I would suggest doing univariate, bivariate, and multi-variate analysis of most if not all the features you chose."
   ]
  },
  {
   "cell_type": "code",
   "execution_count": 109,
   "metadata": {},
   "outputs": [
    {
     "name": "stdout",
     "output_type": "stream",
     "text": [
      "       Hep B  Ethn  Needle  Age\n",
      "0        0.0     5     0.0   62\n",
      "4        0.0     1     0.0   52\n",
      "7        0.0     1     0.0   64\n",
      "8        0.0     4     0.0   66\n",
      "10       0.0     2     0.0   30\n",
      "11       0.0     1     0.0   61\n",
      "12       1.0     5     0.0   27\n",
      "14       0.0     1     0.0   40\n",
      "15       0.0     4     0.0   66\n",
      "19       0.0     1     0.0   40\n",
      "20       0.0     3     0.0   61\n",
      "21       0.0     1     0.0   64\n",
      "23       0.0     4     0.0   68\n",
      "27       0.0     1     0.0   29\n",
      "29       0.0     3     0.0   63\n",
      "34       0.0     2     0.0   48\n",
      "35       0.0     3     0.0   33\n",
      "36       0.0     1     0.0   35\n",
      "43       0.0     3     0.0   50\n",
      "48       0.0     4     0.0   28\n",
      "50       0.0     4     1.0   51\n",
      "51       0.0     3     0.0   64\n",
      "52       0.0     3     0.0   44\n",
      "56       0.0     2     0.0   43\n",
      "61       0.0     3     0.0   44\n",
      "64       0.0     3     0.0   37\n",
      "66       0.0     3     0.0   43\n",
      "67       0.0     4     0.0   60\n",
      "70       0.0     1     0.0   40\n",
      "71       0.0     3     0.0   45\n",
      "...      ...   ...     ...  ...\n",
      "10071    0.0     1     0.0   20\n",
      "10074    0.0     4     0.0   29\n",
      "10079    0.0     4     0.0   49\n",
      "10081    0.0     1     0.0   27\n",
      "10083    0.0     4     0.0   56\n",
      "10085    0.0     4     0.0   68\n",
      "10089    0.0     2     0.0   55\n",
      "10094    0.0     3     0.0   56\n",
      "10095    0.0     3     0.0   63\n",
      "10101    0.0     1     0.0   51\n",
      "10104    0.0     5     0.0   23\n",
      "10105    0.0     3     0.0   34\n",
      "10108    0.0     3     0.0   63\n",
      "10109    0.0     3     0.0   57\n",
      "10112    0.0     4     0.0   48\n",
      "10114    0.0     2     0.0   32\n",
      "10115    0.0     3     0.0   52\n",
      "10117    0.0     3     0.0   62\n",
      "10118    0.0     3     0.0   64\n",
      "10119    0.0     2     0.0   32\n",
      "10121    0.0     1     0.0   52\n",
      "10129    0.0     3     0.0   53\n",
      "10133    0.0     1     0.0   33\n",
      "10136    0.0     3     0.0   55\n",
      "10139    1.0     3     1.0   57\n",
      "10141    0.0     3     0.0   60\n",
      "10143    0.0     3     0.0   48\n",
      "10144    0.0     1     0.0   61\n",
      "10145    0.0     3     0.0   50\n",
      "10147    1.0     4     0.0   60\n",
      "\n",
      "[3950 rows x 4 columns]\n"
     ]
    }
   ],
   "source": [
    "df['Hep B'] = df['Hep B'].replace(2, 0)\n",
    "df['Needle'] = df['Needle'].replace(2, 0)\n",
    "#df['Hep B'] = df['Hep B'].replace(1, 0).replace(2, 1)\n",
    "#df['Needle'] = df['Needle'].replace(1, 0).replace(2, 1)\n",
    "\n",
    "\n",
    "\n",
    "\n",
    "print(df)"
   ]
  },
  {
   "cell_type": "markdown",
   "metadata": {},
   "source": [
    "## Preprocessing data"
   ]
  },
  {
   "cell_type": "markdown",
   "metadata": {},
   "source": [
    "Before we begin to implement a model, we need to prepare the variables that will be used. At this step we convert categorical variables into dummy\\indicator variables (https://chrisalbon.com/python/data_wrangling/pandas_convert_categorical_to_dummies/). Additionally, you'll have to normalize and transform variables if necessary."
   ]
  },
  {
   "cell_type": "code",
   "execution_count": 111,
   "metadata": {},
   "outputs": [
    {
     "name": "stderr",
     "output_type": "stream",
     "text": [
      "/Users/Elaine/anaconda3/lib/python3.7/site-packages/sklearn/utils/validation.py:595: DataConversionWarning: Data with input dtype int64 was converted to float64 by StandardScaler.\n",
      "  warnings.warn(msg, DataConversionWarning)\n",
      "/Users/Elaine/anaconda3/lib/python3.7/site-packages/sklearn/utils/validation.py:595: DataConversionWarning: Data with input dtype int64 was converted to float64 by StandardScaler.\n",
      "  warnings.warn(msg, DataConversionWarning)\n"
     ]
    },
    {
     "data": {
      "text/html": [
       "<div>\n",
       "<style scoped>\n",
       "    .dataframe tbody tr th:only-of-type {\n",
       "        vertical-align: middle;\n",
       "    }\n",
       "\n",
       "    .dataframe tbody tr th {\n",
       "        vertical-align: top;\n",
       "    }\n",
       "\n",
       "    .dataframe thead th {\n",
       "        text-align: right;\n",
       "    }\n",
       "</style>\n",
       "<table border=\"1\" class=\"dataframe\">\n",
       "  <thead>\n",
       "    <tr style=\"text-align: right;\">\n",
       "      <th></th>\n",
       "      <th>Hep B</th>\n",
       "      <th>Needle_0.0</th>\n",
       "      <th>Needle_1.0</th>\n",
       "      <th>Ethn_1</th>\n",
       "      <th>Ethn_2</th>\n",
       "      <th>Ethn_3</th>\n",
       "      <th>Ethn_4</th>\n",
       "      <th>Ethn_5</th>\n",
       "      <th>nAge</th>\n",
       "    </tr>\n",
       "  </thead>\n",
       "  <tbody>\n",
       "    <tr>\n",
       "      <th>0</th>\n",
       "      <td>0.0</td>\n",
       "      <td>1</td>\n",
       "      <td>0</td>\n",
       "      <td>0</td>\n",
       "      <td>0</td>\n",
       "      <td>0</td>\n",
       "      <td>0</td>\n",
       "      <td>1</td>\n",
       "      <td>1.230398</td>\n",
       "    </tr>\n",
       "    <tr>\n",
       "      <th>4</th>\n",
       "      <td>0.0</td>\n",
       "      <td>1</td>\n",
       "      <td>0</td>\n",
       "      <td>1</td>\n",
       "      <td>0</td>\n",
       "      <td>0</td>\n",
       "      <td>0</td>\n",
       "      <td>0</td>\n",
       "      <td>0.520681</td>\n",
       "    </tr>\n",
       "    <tr>\n",
       "      <th>7</th>\n",
       "      <td>0.0</td>\n",
       "      <td>1</td>\n",
       "      <td>0</td>\n",
       "      <td>1</td>\n",
       "      <td>0</td>\n",
       "      <td>0</td>\n",
       "      <td>0</td>\n",
       "      <td>0</td>\n",
       "      <td>1.372341</td>\n",
       "    </tr>\n",
       "    <tr>\n",
       "      <th>8</th>\n",
       "      <td>0.0</td>\n",
       "      <td>1</td>\n",
       "      <td>0</td>\n",
       "      <td>0</td>\n",
       "      <td>0</td>\n",
       "      <td>0</td>\n",
       "      <td>1</td>\n",
       "      <td>0</td>\n",
       "      <td>1.514284</td>\n",
       "    </tr>\n",
       "    <tr>\n",
       "      <th>10</th>\n",
       "      <td>0.0</td>\n",
       "      <td>1</td>\n",
       "      <td>0</td>\n",
       "      <td>0</td>\n",
       "      <td>1</td>\n",
       "      <td>0</td>\n",
       "      <td>0</td>\n",
       "      <td>0</td>\n",
       "      <td>-1.040697</td>\n",
       "    </tr>\n",
       "  </tbody>\n",
       "</table>\n",
       "</div>"
      ],
      "text/plain": [
       "    Hep B  Needle_0.0  Needle_1.0  Ethn_1  Ethn_2  Ethn_3  Ethn_4  Ethn_5  \\\n",
       "0     0.0           1           0       0       0       0       0       1   \n",
       "4     0.0           1           0       1       0       0       0       0   \n",
       "7     0.0           1           0       1       0       0       0       0   \n",
       "8     0.0           1           0       0       0       0       1       0   \n",
       "10    0.0           1           0       0       1       0       0       0   \n",
       "\n",
       "        nAge  \n",
       "0   1.230398  \n",
       "4   0.520681  \n",
       "7   1.372341  \n",
       "8   1.514284  \n",
       "10 -1.040697  "
      ]
     },
     "execution_count": 111,
     "metadata": {},
     "output_type": "execute_result"
    }
   ],
   "source": [
    "# Write your code here\n",
    "\n",
    "data = pd.get_dummies(df, columns = ['Needle', 'Ethn'])\n",
    "\n",
    "from sklearn.preprocessing import StandardScaler\n",
    "scaler = StandardScaler()\n",
    "\n",
    "norm_data = data.Age.values.reshape(-1, 1)\n",
    "scaler.fit(norm_data)\n",
    "data['nAge'] = scaler.transform(norm_data)\n",
    "\n",
    "#data_unitnorm\n",
    "#sns.distplot(mydat1['nAge'])\n",
    "\n",
    "data = data.drop(['Age'], axis=1)\n",
    "data.head()\n"
   ]
  },
  {
   "cell_type": "markdown",
   "metadata": {},
   "source": [
    "## Model training and selection\n",
    "Now, let's split our data into training and testing in an 80-20 split, stratified by HEPB distribution (this tries to keep the HEPB distribution approximately equal for the training and test set). For consistency, let's use a random seed 0."
   ]
  },
  {
   "cell_type": "code",
   "execution_count": 113,
   "metadata": {},
   "outputs": [
    {
     "data": {
      "text/html": [
       "<div>\n",
       "<style scoped>\n",
       "    .dataframe tbody tr th:only-of-type {\n",
       "        vertical-align: middle;\n",
       "    }\n",
       "\n",
       "    .dataframe tbody tr th {\n",
       "        vertical-align: top;\n",
       "    }\n",
       "\n",
       "    .dataframe thead th {\n",
       "        text-align: right;\n",
       "    }\n",
       "</style>\n",
       "<table border=\"1\" class=\"dataframe\">\n",
       "  <thead>\n",
       "    <tr style=\"text-align: right;\">\n",
       "      <th></th>\n",
       "      <th>nAge</th>\n",
       "      <th>Ethn_1</th>\n",
       "      <th>Ethn_2</th>\n",
       "      <th>Ethn_3</th>\n",
       "      <th>Ethn_4</th>\n",
       "      <th>Ethn_5</th>\n",
       "      <th>Needle_0.0</th>\n",
       "      <th>Needle_1.0</th>\n",
       "    </tr>\n",
       "  </thead>\n",
       "  <tbody>\n",
       "    <tr>\n",
       "      <th>5645</th>\n",
       "      <td>-0.543895</td>\n",
       "      <td>0</td>\n",
       "      <td>0</td>\n",
       "      <td>0</td>\n",
       "      <td>1</td>\n",
       "      <td>0</td>\n",
       "      <td>1</td>\n",
       "      <td>0</td>\n",
       "    </tr>\n",
       "    <tr>\n",
       "      <th>2673</th>\n",
       "      <td>-0.898753</td>\n",
       "      <td>1</td>\n",
       "      <td>0</td>\n",
       "      <td>0</td>\n",
       "      <td>0</td>\n",
       "      <td>0</td>\n",
       "      <td>1</td>\n",
       "      <td>0</td>\n",
       "    </tr>\n",
       "    <tr>\n",
       "      <th>9510</th>\n",
       "      <td>0.520681</td>\n",
       "      <td>0</td>\n",
       "      <td>1</td>\n",
       "      <td>0</td>\n",
       "      <td>0</td>\n",
       "      <td>0</td>\n",
       "      <td>1</td>\n",
       "      <td>0</td>\n",
       "    </tr>\n",
       "    <tr>\n",
       "      <th>5771</th>\n",
       "      <td>-1.040697</td>\n",
       "      <td>0</td>\n",
       "      <td>0</td>\n",
       "      <td>1</td>\n",
       "      <td>0</td>\n",
       "      <td>0</td>\n",
       "      <td>1</td>\n",
       "      <td>0</td>\n",
       "    </tr>\n",
       "    <tr>\n",
       "      <th>380</th>\n",
       "      <td>-1.679442</td>\n",
       "      <td>0</td>\n",
       "      <td>0</td>\n",
       "      <td>1</td>\n",
       "      <td>0</td>\n",
       "      <td>0</td>\n",
       "      <td>1</td>\n",
       "      <td>0</td>\n",
       "    </tr>\n",
       "  </tbody>\n",
       "</table>\n",
       "</div>"
      ],
      "text/plain": [
       "          nAge  Ethn_1  Ethn_2  Ethn_3  Ethn_4  Ethn_5  Needle_0.0  Needle_1.0\n",
       "5645 -0.543895       0       0       0       1       0           1           0\n",
       "2673 -0.898753       1       0       0       0       0           1           0\n",
       "9510  0.520681       0       1       0       0       0           1           0\n",
       "5771 -1.040697       0       0       1       0       0           1           0\n",
       "380  -1.679442       0       0       1       0       0           1           0"
      ]
     },
     "execution_count": 113,
     "metadata": {},
     "output_type": "execute_result"
    }
   ],
   "source": [
    "# Write your code here\n",
    "\n",
    "from sklearn.model_selection import train_test_split\n",
    "\n",
    "data_train, data_val = train_test_split(data, test_size = 0.20, random_state = 0, stratify = data['Hep B'])\n",
    "\n",
    "\n",
    "y_train = data_train['Hep B']\n",
    "y_val = data_val['Hep B']\n",
    "\n",
    "# only features \n",
    "X_train = data_train[[\"nAge\",\"Ethn_1\",\"Ethn_2\", \"Ethn_3\",\"Ethn_4\", \"Ethn_5\", \"Needle_0.0\" , \"Needle_1.0\"]]\n",
    "X_val = data_val[[\"nAge\",\"Ethn_1\",\"Ethn_2\", \"Ethn_3\",\"Ethn_4\", \"Ethn_5\", \"Needle_0.0\" , \"Needle_1.0\"]]\n",
    "\n",
    "\n",
    "X_train.head()"
   ]
  },
  {
   "cell_type": "markdown",
   "metadata": {},
   "source": [
    "Now we can use our training data to create the model and  make predicitons with your test data."
   ]
  },
  {
   "cell_type": "code",
   "execution_count": 118,
   "metadata": {},
   "outputs": [
    {
     "name": "stdout",
     "output_type": "stream",
     "text": [
      "7931    0.0\n",
      "1084    0.0\n",
      "4905    0.0\n",
      "5263    0.0\n",
      "9887    0.0\n",
      "Name: Hep B, dtype: float64 [0. 0. 0. 0. 0.]\n"
     ]
    },
    {
     "name": "stderr",
     "output_type": "stream",
     "text": [
      "/Users/Elaine/anaconda3/lib/python3.7/site-packages/sklearn/linear_model/logistic.py:433: FutureWarning: Default solver will be changed to 'lbfgs' in 0.22. Specify a solver to silence this warning.\n",
      "  FutureWarning)\n"
     ]
    }
   ],
   "source": [
    "#Write your code here\n",
    "\n",
    "from sklearn.linear_model import LogisticRegression\n",
    "#X_train, X_test, y_train, y_test = train_test_split(X, y, random_state=0)\n",
    "logreg = LogisticRegression()\n",
    "results = logreg.fit(X_train, y_train)\n",
    "from sklearn.metrics import auc\n",
    "\n",
    "# apply the model to test data\n",
    "y_val_predict = logreg.predict(X_val)\n",
    "y_val_proba = logreg.predict_proba(X_val)\n",
    "\n",
    "print(y_val[:5],y_val_predict[:5])"
   ]
  },
  {
   "cell_type": "markdown",
   "metadata": {},
   "source": [
    "# Scoring Metrics\n",
    "## Confusion Matrix Metrics\n",
    "\n",
    "There are several useful metrics that are derived from the confusion matrix:\n",
    "\n",
    "![alt text](https://i.imgur.com/uipmEwt.png)\n",
    "\n",
    "* sensitivity, **recall**, hit rate, or true positive rate (TPR) : $ \\mathrm {TPR} ={\\frac {\\mathrm {TP} }{P}}={\\frac {\\mathrm {TP} }{\\mathrm {TP} +\\mathrm {FN} }}$\n",
    " \n",
    "* **precision** or positive predictive value (PPV) : $ \\mathrm {PPV} ={\\frac {\\mathrm {TP} }{\\mathrm {TP} +\\mathrm {FP} }}$\n",
    "\n",
    "* specificity or true negative rate (TNR) : $\\mathrm {TNR} ={\\frac {\\mathrm {TN} }{N}}={\\frac {\\mathrm {TN} }{\\mathrm {TN} +\\mathrm {FP} }}$\n",
    "\n",
    "* miss rate or false negative rate (FNR) : $ \\mathrm {FNR} ={\\frac {\\mathrm {FN} }{P}}={\\frac {\\mathrm {FN} }{\\mathrm {FN} +\\mathrm {TP} }}=1-\\mathrm {TPR}$\n",
    "\n",
    "* fall-out or false positive rate (FPR) : $\\mathrm {FPR} ={\\frac {\\mathrm {FP} }{N}}={\\frac {\\mathrm {FP} }{\\mathrm {FP} +\\mathrm {TN} }}=1-\\mathrm {TNR} $\n",
    "\n",
    "* accuracy (ACC) : $\\mathrm {ACC} ={\\frac {\\mathrm {TP} +\\mathrm {TN} }{P+N}}={\\frac {\\mathrm {TP} +\\mathrm {TN} }{\\mathrm {TP} +\\mathrm {TN} +\\mathrm {FP} +\\mathrm {FN} }}$\n",
    "\n",
    "Now use code below to calculate the confusion matrix."
   ]
  },
  {
   "cell_type": "code",
   "execution_count": 119,
   "metadata": {},
   "outputs": [
    {
     "data": {
      "text/plain": [
       "-0.9373601789709172"
      ]
     },
     "execution_count": 119,
     "metadata": {},
     "output_type": "execute_result"
    }
   ],
   "source": [
    "# write your code here\n",
    "\n",
    "from sklearn import metrics\n",
    "from sklearn.metrics import confusion_matrix\n",
    "\n",
    "def cm_metric(y_true,y_prob):\n",
    "    \n",
    "    # predict the class with the greatest probability\n",
    "    y_pred = [np.argmax(y) for y in y_prob]\n",
    "\n",
    "    # calculate the confusion matrix\n",
    "    cm = confusion_matrix(y_true, y_val_predict)\n",
    "\n",
    "    cm_norm = cm.astype('float') / cm.sum(axis=1)[:, np.newaxis]\n",
    "    return sum(sum(np.multiply(cm_norm,np.array([[1, -2], [-2, 1]]))))\n",
    "\n",
    "cm_metric(y_val,y_val_proba)\n"
   ]
  },
  {
   "cell_type": "markdown",
   "metadata": {},
   "source": [
    "The model is classifying everything as class 1... Pretty terrible. :( Well maybe there's a threshold where this doesn't happen. Let's look at the AUC ROC.\n",
    "\n",
    "## AUC ROC\n",
    "\n",
    "A receiver operating characteristic (ROC) is a probability curve that plots the true positive rate (y) against the false positive rate (x) at many decision threshold settings. The area under the curve (AUC) represents a measure of separability or how much the model is capable of distinguishing between classes. An AUC closer to 1 is desirable as it shows the model is perfectly distinguishing between patients with disease and no disease. A poor model has an AUC $\\leq$ 0.50."
   ]
  },
  {
   "cell_type": "code",
   "execution_count": null,
   "metadata": {},
   "outputs": [],
   "source": [
    "#extract fpr and tpr to plot ROC curve and calculate AUC (Note: fpr-false positive rate and tpr -true positive rate)\n",
    "fpr, tpr, threshold = metrics.roc_curve() "
   ]
  },
  {
   "cell_type": "markdown",
   "metadata": {},
   "source": [
    "This model only looks at three possible features and leaves lots of room for improvement!  Try using more features, different models, and see if you can do anything about the data we threw out earlier."
   ]
  },
  {
   "cell_type": "markdown",
   "metadata": {},
   "source": [
    "## Economic Cost\n",
    "Similar to the confusion matrix, we want you to keep in mind the other aspects of healthcare analytics--in this case, economic feasibility. In essence, we want you to minimize the amount of time and money spent on data collection by **reducing the number of features** collected. Each record certainly required a lot of time and money from several individuals and businesses to reliably create, and we hope you gain a better understanding of conducting a useful cost-benefit analysis with this scoring method.  This won't be evaluated quantitatively, but please consider discussing it for your presentation."
   ]
  },
  {
   "cell_type": "markdown",
   "metadata": {},
   "source": [
    "For your presentation on Friday, don't foget to mention why you selected the features you used, the model implemented, the scoring metrics mentioned above, and the limitations of your analysis."
   ]
  },
  {
   "cell_type": "markdown",
   "metadata": {},
   "source": [
    "# Next steps\n",
    "For those that finish early, try different classification models such as decision trees, KNN, SVM etc. You can try tackling the multiclass classifier (predicting the different cases instead of simply negative or positive)!\n",
    "\n",
    "Given the rich data set provided feel free to study a research question of your interest. Have fun! (:"
   ]
  }
 ],
 "metadata": {
  "kernelspec": {
   "display_name": "Python 3",
   "language": "python",
   "name": "python3"
  },
  "language_info": {
   "codemirror_mode": {
    "name": "ipython",
    "version": 3
   },
   "file_extension": ".py",
   "mimetype": "text/x-python",
   "name": "python",
   "nbconvert_exporter": "python",
   "pygments_lexer": "ipython3",
   "version": "3.7.1"
  }
 },
 "nbformat": 4,
 "nbformat_minor": 2
}
